{
 "cells": [
  {
   "cell_type": "code",
   "execution_count": 72,
   "metadata": {},
   "outputs": [],
   "source": [
    "import findspark\n",
    "findspark.init()"
   ]
  },
  {
   "cell_type": "markdown",
   "metadata": {},
   "source": [
    "# Explore Spark configuration options"
   ]
  },
  {
   "cell_type": "code",
   "execution_count": 73,
   "metadata": {},
   "outputs": [],
   "source": [
    "import pyspark # only run after findspark.init()\n",
    "from pyspark.sql import SparkSession\n",
    "\n",
    "EXE_MEMORY = \"2g\"\n",
    "DRIVER_MEMORY = \"10g\"\n",
    "spark = SparkSession.builder.appName(\"AWS\").config(\"spark.executor.memory\", EXE_MEMORY).config(\"spark.executor.cores\", \"3\").config(\"spark.driver.memory\", DRIVER_MEMORY).config(\"spark.cores.max\", \"10\").getOrCreate()"
   ]
  },
  {
   "cell_type": "markdown",
   "metadata": {},
   "source": [
    "# Reading the data "
   ]
  },
  {
   "cell_type": "markdown",
   "metadata": {},
   "source": [
    "# Read data as RDD"
   ]
  },
  {
   "cell_type": "code",
   "execution_count": 76,
   "metadata": {},
   "outputs": [],
   "source": [
    "#Read data as RDD\n",
    "sc = spark.sparkContext\n",
    "rdd = sc.textFile('E:/sakshi/aws/Cell_Phones_and_Accessories_5.json')"
   ]
  },
  {
   "cell_type": "code",
   "execution_count": 77,
   "metadata": {},
   "outputs": [
    {
     "data": {
      "text/plain": [
       "['{\"overall\": 5.0, \"verified\": true, \"reviewTime\": \"08 4, 2014\", \"reviewerID\": \"A24E3SXTC62LJI\", \"asin\": \"7508492919\", \"style\": {\"Color:\": \" Bling\"}, \"reviewerName\": \"Claudia Valdivia\", \"reviewText\": \"Looks even better in person. Be careful to not drop your phone so often because the rhinestones will fall off (duh). More of a decorative case than it is protective, but I will say that it fits perfectly and securely on my phone. Overall, very pleased with this purchase.\", \"summary\": \"Can\\'t stop won\\'t stop looking at it\", \"unixReviewTime\": 1407110400}']"
      ]
     },
     "execution_count": 77,
     "metadata": {},
     "output_type": "execute_result"
    }
   ],
   "source": [
    "rdd.take(1)"
   ]
  },
  {
   "cell_type": "code",
   "execution_count": 78,
   "metadata": {},
   "outputs": [
    {
     "data": {
      "text/plain": [
       "pyspark.rdd.RDD"
      ]
     },
     "execution_count": 78,
     "metadata": {},
     "output_type": "execute_result"
    }
   ],
   "source": [
    "type(rdd)"
   ]
  },
  {
   "cell_type": "markdown",
   "metadata": {},
   "source": [
    "# Read data as Dataframe"
   ]
  },
  {
   "cell_type": "code",
   "execution_count": 79,
   "metadata": {},
   "outputs": [],
   "source": [
    "#Read a json file into Spark DataFrame\n",
    "\n",
    "df=spark.read.csv('E:/sakshi/aws/Cell_Phones_and_Accessories_5.json')"
   ]
  },
  {
   "cell_type": "code",
   "execution_count": 80,
   "metadata": {},
   "outputs": [
    {
     "data": {
      "text/plain": [
       "Row(_c0='{\"overall\": 5.0', _c1=' \"verified\": true', _c2=' \"reviewTime\": \"08 4', _c3=' 2014\"', _c4=' \"reviewerID\": \"A24E3SXTC62LJI\"', _c5=' \"asin\": \"7508492919\"', _c6=' \"style\": {\"Color:\": \" Bling\"}', _c7=' \"reviewerName\": \"Claudia Valdivia\"', _c8=' \"reviewText\": \"Looks even better in person. Be careful to not drop your phone so often because the rhinestones will fall off (duh). More of a decorative case than it is protective', _c9=' but I will say that it fits perfectly and securely on my phone. Overall', _c10=' very pleased with this purchase.\"', _c11=' \"summary\": \"Can\\'t stop won\\'t stop looking at it\"', _c12=' \"unixReviewTime\": 1407110400}')"
      ]
     },
     "execution_count": 80,
     "metadata": {},
     "output_type": "execute_result"
    }
   ],
   "source": [
    "df.head()"
   ]
  },
  {
   "cell_type": "code",
   "execution_count": 81,
   "metadata": {},
   "outputs": [
    {
     "data": {
      "text/plain": [
       "pyspark.sql.dataframe.DataFrame"
      ]
     },
     "execution_count": 81,
     "metadata": {},
     "output_type": "execute_result"
    }
   ],
   "source": [
    "type(df)"
   ]
  },
  {
   "cell_type": "markdown",
   "metadata": {},
   "source": [
    "# Convert rdd to spark dataframe"
   ]
  },
  {
   "cell_type": "code",
   "execution_count": 82,
   "metadata": {},
   "outputs": [],
   "source": [
    "#Convert rdd to spark dataframe\n",
    "\n",
    "sdf=rdd.map(lambda x: (x,)).toDF()"
   ]
  },
  {
   "cell_type": "code",
   "execution_count": 83,
   "metadata": {},
   "outputs": [
    {
     "name": "stdout",
     "output_type": "stream",
     "text": [
      "+------------------------------------------------------------------------------------------------------------------------------------------------------------------------------------------------------------------------------------------------------------------------------------------------------------------------------------------------------------------------------------------------------------------------------------------------------------------------------------------------------------------------------------------------------------------------+\n",
      "|_1                                                                                                                                                                                                                                                                                                                                                                                                                                                                                                                                                                      |\n",
      "+------------------------------------------------------------------------------------------------------------------------------------------------------------------------------------------------------------------------------------------------------------------------------------------------------------------------------------------------------------------------------------------------------------------------------------------------------------------------------------------------------------------------------------------------------------------------+\n",
      "|{\"overall\": 5.0, \"verified\": true, \"reviewTime\": \"08 4, 2014\", \"reviewerID\": \"A24E3SXTC62LJI\", \"asin\": \"7508492919\", \"style\": {\"Color:\": \" Bling\"}, \"reviewerName\": \"Claudia Valdivia\", \"reviewText\": \"Looks even better in person. Be careful to not drop your phone so often because the rhinestones will fall off (duh). More of a decorative case than it is protective, but I will say that it fits perfectly and securely on my phone. Overall, very pleased with this purchase.\", \"summary\": \"Can't stop won't stop looking at it\", \"unixReviewTime\": 1407110400}|\n",
      "|{\"overall\": 5.0, \"verified\": true, \"reviewTime\": \"02 12, 2014\", \"reviewerID\": \"A269FLZCB4GIPV\", \"asin\": \"7508492919\", \"reviewerName\": \"sarah ponce\", \"reviewText\": \"When you don't want to spend a whole lot of cash but want a great deal...this is the shop to buy from!\", \"summary\": \"1\", \"unixReviewTime\": 1392163200}                                                                                                                                                                                                                                              |\n",
      "|{\"overall\": 3.0, \"verified\": true, \"reviewTime\": \"02 8, 2014\", \"reviewerID\": \"AB6CHQWHZW4TV\", \"asin\": \"7508492919\", \"reviewerName\": \"Kai\", \"reviewText\": \"so the case came on time, i love the design. I'm actually missing 2 studs but nothing too noticeable the studding is almost a bit sloppy around the bow, but once again not too noticeable. I haven't put in my phone yet so this is just what I've notice so far\", \"summary\": \"Its okay\", \"unixReviewTime\": 1391817600}                                                                                      |\n",
      "+------------------------------------------------------------------------------------------------------------------------------------------------------------------------------------------------------------------------------------------------------------------------------------------------------------------------------------------------------------------------------------------------------------------------------------------------------------------------------------------------------------------------------------------------------------------------+\n",
      "only showing top 3 rows\n",
      "\n"
     ]
    }
   ],
   "source": [
    "sdf.show(3,truncate=False)"
   ]
  },
  {
   "cell_type": "code",
   "execution_count": 84,
   "metadata": {},
   "outputs": [
    {
     "data": {
      "text/plain": [
       "pyspark.sql.dataframe.DataFrame"
      ]
     },
     "execution_count": 84,
     "metadata": {},
     "output_type": "execute_result"
    }
   ],
   "source": [
    "type(sdf)"
   ]
  },
  {
   "cell_type": "markdown",
   "metadata": {},
   "source": [
    "# Convert Spark DataFrame to RDD"
   ]
  },
  {
   "cell_type": "code",
   "execution_count": 85,
   "metadata": {},
   "outputs": [],
   "source": [
    "rdd2=df.rdd"
   ]
  },
  {
   "cell_type": "code",
   "execution_count": 86,
   "metadata": {},
   "outputs": [
    {
     "data": {
      "text/plain": [
       "[Row(_c0='{\"overall\": 5.0', _c1=' \"verified\": true', _c2=' \"reviewTime\": \"08 4', _c3=' 2014\"', _c4=' \"reviewerID\": \"A24E3SXTC62LJI\"', _c5=' \"asin\": \"7508492919\"', _c6=' \"style\": {\"Color:\": \" Bling\"}', _c7=' \"reviewerName\": \"Claudia Valdivia\"', _c8=' \"reviewText\": \"Looks even better in person. Be careful to not drop your phone so often because the rhinestones will fall off (duh). More of a decorative case than it is protective', _c9=' but I will say that it fits perfectly and securely on my phone. Overall', _c10=' very pleased with this purchase.\"', _c11=' \"summary\": \"Can\\'t stop won\\'t stop looking at it\"', _c12=' \"unixReviewTime\": 1407110400}'),\n",
       " Row(_c0='{\"overall\": 5.0', _c1=' \"verified\": true', _c2=' \"reviewTime\": \"02 12', _c3=' 2014\"', _c4=' \"reviewerID\": \"A269FLZCB4GIPV\"', _c5=' \"asin\": \"7508492919\"', _c6=' \"reviewerName\": \"sarah ponce\"', _c7=' \"reviewText\": \"When you don\\'t want to spend a whole lot of cash but want a great deal...this is the shop to buy from!\"', _c8=' \"summary\": \"1\"', _c9=' \"unixReviewTime\": 1392163200}', _c10=None, _c11=None, _c12=None),\n",
       " Row(_c0='{\"overall\": 3.0', _c1=' \"verified\": true', _c2=' \"reviewTime\": \"02 8', _c3=' 2014\"', _c4=' \"reviewerID\": \"AB6CHQWHZW4TV\"', _c5=' \"asin\": \"7508492919\"', _c6=' \"reviewerName\": \"Kai\"', _c7=' \"reviewText\": \"so the case came on time', _c8=\" i love the design. I'm actually missing 2 studs but nothing too noticeable the studding is almost a bit sloppy around the bow\", _c9=' but once again not too noticeable. I haven\\'t put in my phone yet so this is just what I\\'ve notice so far\"', _c10=' \"summary\": \"Its okay\"', _c11=' \"unixReviewTime\": 1391817600}', _c12=None)]"
      ]
     },
     "execution_count": 86,
     "metadata": {},
     "output_type": "execute_result"
    }
   ],
   "source": [
    "rdd2.take(3)"
   ]
  },
  {
   "cell_type": "code",
   "execution_count": 88,
   "metadata": {},
   "outputs": [
    {
     "data": {
      "text/plain": [
       "pyspark.rdd.RDD"
      ]
     },
     "execution_count": 88,
     "metadata": {},
     "output_type": "execute_result"
    }
   ],
   "source": [
    "type(rdd2)"
   ]
  },
  {
   "cell_type": "markdown",
   "metadata": {},
   "source": [
    "# Convert Spark DataFrame to Pandas DataFrame"
   ]
  },
  {
   "cell_type": "code",
   "execution_count": 89,
   "metadata": {},
   "outputs": [],
   "source": [
    "#Pandas Dataframe from Pyspark Dataframe\n",
    "pandasdf=df.toPandas()"
   ]
  },
  {
   "cell_type": "code",
   "execution_count": 90,
   "metadata": {},
   "outputs": [
    {
     "data": {
      "text/html": [
       "<div>\n",
       "<style scoped>\n",
       "    .dataframe tbody tr th:only-of-type {\n",
       "        vertical-align: middle;\n",
       "    }\n",
       "\n",
       "    .dataframe tbody tr th {\n",
       "        vertical-align: top;\n",
       "    }\n",
       "\n",
       "    .dataframe thead th {\n",
       "        text-align: right;\n",
       "    }\n",
       "</style>\n",
       "<table border=\"1\" class=\"dataframe\">\n",
       "  <thead>\n",
       "    <tr style=\"text-align: right;\">\n",
       "      <th></th>\n",
       "      <th>_c0</th>\n",
       "      <th>_c1</th>\n",
       "      <th>_c2</th>\n",
       "      <th>_c3</th>\n",
       "      <th>_c4</th>\n",
       "      <th>_c5</th>\n",
       "      <th>_c6</th>\n",
       "      <th>_c7</th>\n",
       "      <th>_c8</th>\n",
       "      <th>_c9</th>\n",
       "      <th>_c10</th>\n",
       "      <th>_c11</th>\n",
       "      <th>_c12</th>\n",
       "    </tr>\n",
       "  </thead>\n",
       "  <tbody>\n",
       "    <tr>\n",
       "      <td>0</td>\n",
       "      <td>{\"overall\": 5.0</td>\n",
       "      <td>\"verified\": true</td>\n",
       "      <td>\"reviewTime\": \"08 4</td>\n",
       "      <td>2014\"</td>\n",
       "      <td>\"reviewerID\": \"A24E3SXTC62LJI\"</td>\n",
       "      <td>\"asin\": \"7508492919\"</td>\n",
       "      <td>\"style\": {\"Color:\": \" Bling\"}</td>\n",
       "      <td>\"reviewerName\": \"Claudia Valdivia\"</td>\n",
       "      <td>\"reviewText\": \"Looks even better in person. B...</td>\n",
       "      <td>but I will say that it fits perfectly and sec...</td>\n",
       "      <td>very pleased with this purchase.\"</td>\n",
       "      <td>\"summary\": \"Can't stop won't stop looking at it\"</td>\n",
       "      <td>\"unixReviewTime\": 1407110400}</td>\n",
       "    </tr>\n",
       "    <tr>\n",
       "      <td>1</td>\n",
       "      <td>{\"overall\": 5.0</td>\n",
       "      <td>\"verified\": true</td>\n",
       "      <td>\"reviewTime\": \"02 12</td>\n",
       "      <td>2014\"</td>\n",
       "      <td>\"reviewerID\": \"A269FLZCB4GIPV\"</td>\n",
       "      <td>\"asin\": \"7508492919\"</td>\n",
       "      <td>\"reviewerName\": \"sarah ponce\"</td>\n",
       "      <td>\"reviewText\": \"When you don't want to spend a...</td>\n",
       "      <td>\"summary\": \"1\"</td>\n",
       "      <td>\"unixReviewTime\": 1392163200}</td>\n",
       "      <td>None</td>\n",
       "      <td>None</td>\n",
       "      <td>None</td>\n",
       "    </tr>\n",
       "  </tbody>\n",
       "</table>\n",
       "</div>"
      ],
      "text/plain": [
       "               _c0                _c1                    _c2     _c3  \\\n",
       "0  {\"overall\": 5.0   \"verified\": true    \"reviewTime\": \"08 4   2014\"   \n",
       "1  {\"overall\": 5.0   \"verified\": true   \"reviewTime\": \"02 12   2014\"   \n",
       "\n",
       "                               _c4                    _c5  \\\n",
       "0   \"reviewerID\": \"A24E3SXTC62LJI\"   \"asin\": \"7508492919\"   \n",
       "1   \"reviewerID\": \"A269FLZCB4GIPV\"   \"asin\": \"7508492919\"   \n",
       "\n",
       "                              _c6  \\\n",
       "0   \"style\": {\"Color:\": \" Bling\"}   \n",
       "1   \"reviewerName\": \"sarah ponce\"   \n",
       "\n",
       "                                                 _c7  \\\n",
       "0                 \"reviewerName\": \"Claudia Valdivia\"   \n",
       "1   \"reviewText\": \"When you don't want to spend a...   \n",
       "\n",
       "                                                 _c8  \\\n",
       "0   \"reviewText\": \"Looks even better in person. B...   \n",
       "1                                     \"summary\": \"1\"   \n",
       "\n",
       "                                                 _c9  \\\n",
       "0   but I will say that it fits perfectly and sec...   \n",
       "1                      \"unixReviewTime\": 1392163200}   \n",
       "\n",
       "                                 _c10  \\\n",
       "0   very pleased with this purchase.\"   \n",
       "1                                None   \n",
       "\n",
       "                                                _c11  \\\n",
       "0   \"summary\": \"Can't stop won't stop looking at it\"   \n",
       "1                                               None   \n",
       "\n",
       "                             _c12  \n",
       "0   \"unixReviewTime\": 1407110400}  \n",
       "1                            None  "
      ]
     },
     "execution_count": 90,
     "metadata": {},
     "output_type": "execute_result"
    }
   ],
   "source": [
    "pandasdf.head(2)"
   ]
  },
  {
   "cell_type": "markdown",
   "metadata": {},
   "source": [
    "# Performing Tasks"
   ]
  },
  {
   "cell_type": "code",
   "execution_count": 91,
   "metadata": {},
   "outputs": [],
   "source": [
    "\n",
    "## Reading the data(Json file)\n",
    "\n",
    "json_rdd = spark.read.json('E:/sakshi/aws/Cell_Phones_and_Accessories_5.json')"
   ]
  },
  {
   "cell_type": "markdown",
   "metadata": {},
   "source": [
    "# Task 1 :Select first 10 rows of dataset."
   ]
  },
  {
   "cell_type": "code",
   "execution_count": 92,
   "metadata": {
    "scrolled": true
   },
   "outputs": [
    {
     "name": "stdout",
     "output_type": "stream",
     "text": [
      "+----------+-----+-------+--------------------+-----------+--------------+--------------------+--------------------+--------------------+--------------+--------+----+\n",
      "|      asin|image|overall|          reviewText| reviewTime|    reviewerID|        reviewerName|               style|             summary|unixReviewTime|verified|vote|\n",
      "+----------+-----+-------+--------------------+-----------+--------------+--------------------+--------------------+--------------------+--------------+--------+----+\n",
      "|7508492919| null|    5.0|Looks even better...| 08 4, 2014|A24E3SXTC62LJI|    Claudia Valdivia|[,  Bling,,,,,,,,...|Can't stop won't ...|    1407110400|    true|null|\n",
      "|7508492919| null|    5.0|When you don't wa...|02 12, 2014|A269FLZCB4GIPV|         sarah ponce|                null|                   1|    1392163200|    true|null|\n",
      "|7508492919| null|    3.0|so the case came ...| 02 8, 2014| AB6CHQWHZW4TV|                 Kai|                null|            Its okay|    1391817600|    true|null|\n",
      "|7508492919| null|    2.0|DON'T CARE FOR IT...| 02 4, 2014| A1M117A53LEI8|     Sharon Williams|                null|                CASE|    1391472000|    true|null|\n",
      "|7508492919| null|    4.0|I liked it becaus...| 02 3, 2014|A272DUT8M88ZS8|     Bella Rodriguez|                null|               Cute!|    1391385600|    true|null|\n",
      "|7508492919| null|    2.0|The product looke...|01 27, 2014|A1DW2L6XCC5TJS|     Amazon Customer|                null|        Not so happy|    1390780800|    true|null|\n",
      "|7508492919| null|    3.0|I FINALLY got my ...|01 23, 2014| AQC61R4UST7UH|        DaMara Estep|                null|          It's cute!|    1390435200|    true|null|\n",
      "|7508492919| null|    5.0|It is a very cute...|01 17, 2014|A31OVFL91BCKXG|Ashley Nicole Miller|                null|           Cute case|    1389916800|    true|null|\n",
      "|7508492919| null|    1.0|DO NOT BUY! this ...|12 27, 2013|A1K0VLK6O5Z22M|           BeeLove21|                null|         WORST ITEM!|    1388102400|    true|null|\n",
      "|7508492919| null|    4.0|I really love thi...|12 16, 2013|A1K3BWU73YB44P|          Mrs. Ochoa|                null|        Pretty Cute!|    1387152000|    true|null|\n",
      "+----------+-----+-------+--------------------+-----------+--------------+--------------------+--------------------+--------------------+--------------+--------+----+\n",
      "only showing top 10 rows\n",
      "\n"
     ]
    }
   ],
   "source": [
    "#print 10 rows of dataset\n",
    "json_rdd.show(10)"
   ]
  },
  {
   "cell_type": "markdown",
   "metadata": {},
   "source": [
    "# Task 2 :Get Schema of Dataset"
   ]
  },
  {
   "cell_type": "code",
   "execution_count": 93,
   "metadata": {},
   "outputs": [
    {
     "name": "stdout",
     "output_type": "stream",
     "text": [
      "root\n",
      " |-- asin: string (nullable = true)\n",
      " |-- image: array (nullable = true)\n",
      " |    |-- element: string (containsNull = true)\n",
      " |-- overall: double (nullable = true)\n",
      " |-- reviewText: string (nullable = true)\n",
      " |-- reviewTime: string (nullable = true)\n",
      " |-- reviewerID: string (nullable = true)\n",
      " |-- reviewerName: string (nullable = true)\n",
      " |-- style: struct (nullable = true)\n",
      " |    |-- Color Name:: string (nullable = true)\n",
      " |    |-- Color:: string (nullable = true)\n",
      " |    |-- Design:: string (nullable = true)\n",
      " |    |-- Edition:: string (nullable = true)\n",
      " |    |-- Format:: string (nullable = true)\n",
      " |    |-- Item Package Quantity:: string (nullable = true)\n",
      " |    |-- Length:: string (nullable = true)\n",
      " |    |-- Material Type:: string (nullable = true)\n",
      " |    |-- Model:: string (nullable = true)\n",
      " |    |-- Offer Type:: string (nullable = true)\n",
      " |    |-- Package Quantity:: string (nullable = true)\n",
      " |    |-- Package Type:: string (nullable = true)\n",
      " |    |-- Pattern:: string (nullable = true)\n",
      " |    |-- Product Packaging:: string (nullable = true)\n",
      " |    |-- Size Name:: string (nullable = true)\n",
      " |    |-- Size:: string (nullable = true)\n",
      " |    |-- Style Name:: string (nullable = true)\n",
      " |    |-- Style:: string (nullable = true)\n",
      " |-- summary: string (nullable = true)\n",
      " |-- unixReviewTime: long (nullable = true)\n",
      " |-- verified: boolean (nullable = true)\n",
      " |-- vote: string (nullable = true)\n",
      "\n"
     ]
    }
   ],
   "source": [
    "#Printing Schema of dataset\n",
    "json_rdd.printSchema()"
   ]
  },
  {
   "cell_type": "code",
   "execution_count": 94,
   "metadata": {},
   "outputs": [],
   "source": [
    "#Only Selected five Column from dataset\n",
    "selective_aws_df = json_rdd.select('overall', 'reviewText','reviewerID','reviewerName','reviewTime')"
   ]
  },
  {
   "cell_type": "code",
   "execution_count": 95,
   "metadata": {},
   "outputs": [
    {
     "name": "stdout",
     "output_type": "stream",
     "text": [
      "+-------+--------------------+--------------+--------------------+-----------+\n",
      "|overall|          reviewText|    reviewerID|        reviewerName| reviewTime|\n",
      "+-------+--------------------+--------------+--------------------+-----------+\n",
      "|    5.0|Looks even better...|A24E3SXTC62LJI|    Claudia Valdivia| 08 4, 2014|\n",
      "|    5.0|When you don't wa...|A269FLZCB4GIPV|         sarah ponce|02 12, 2014|\n",
      "|    3.0|so the case came ...| AB6CHQWHZW4TV|                 Kai| 02 8, 2014|\n",
      "|    2.0|DON'T CARE FOR IT...| A1M117A53LEI8|     Sharon Williams| 02 4, 2014|\n",
      "|    4.0|I liked it becaus...|A272DUT8M88ZS8|     Bella Rodriguez| 02 3, 2014|\n",
      "|    2.0|The product looke...|A1DW2L6XCC5TJS|     Amazon Customer|01 27, 2014|\n",
      "|    3.0|I FINALLY got my ...| AQC61R4UST7UH|        DaMara Estep|01 23, 2014|\n",
      "|    5.0|It is a very cute...|A31OVFL91BCKXG|Ashley Nicole Miller|01 17, 2014|\n",
      "|    1.0|DO NOT BUY! this ...|A1K0VLK6O5Z22M|           BeeLove21|12 27, 2013|\n",
      "|    4.0|I really love thi...|A1K3BWU73YB44P|          Mrs. Ochoa|12 16, 2013|\n",
      "+-------+--------------------+--------------+--------------------+-----------+\n",
      "only showing top 10 rows\n",
      "\n"
     ]
    }
   ],
   "source": [
    "#Selected Column print\n",
    "selective_aws_df.show(10)"
   ]
  },
  {
   "cell_type": "code",
   "execution_count": 96,
   "metadata": {},
   "outputs": [],
   "source": [
    "selective_aws_df.createOrReplaceTempView(\"selective_aws_df\")"
   ]
  },
  {
   "cell_type": "markdown",
   "metadata": {},
   "source": [
    "#  Selecting 10 rows with sql query."
   ]
  },
  {
   "cell_type": "code",
   "execution_count": 97,
   "metadata": {},
   "outputs": [
    {
     "name": "stdout",
     "output_type": "stream",
     "text": [
      "+-------+--------------------+--------------+--------------------+-----------+\n",
      "|overall|          reviewText|    reviewerID|        reviewerName| reviewTime|\n",
      "+-------+--------------------+--------------+--------------------+-----------+\n",
      "|    5.0|Looks even better...|A24E3SXTC62LJI|    Claudia Valdivia| 08 4, 2014|\n",
      "|    5.0|When you don't wa...|A269FLZCB4GIPV|         sarah ponce|02 12, 2014|\n",
      "|    3.0|so the case came ...| AB6CHQWHZW4TV|                 Kai| 02 8, 2014|\n",
      "|    2.0|DON'T CARE FOR IT...| A1M117A53LEI8|     Sharon Williams| 02 4, 2014|\n",
      "|    4.0|I liked it becaus...|A272DUT8M88ZS8|     Bella Rodriguez| 02 3, 2014|\n",
      "|    2.0|The product looke...|A1DW2L6XCC5TJS|     Amazon Customer|01 27, 2014|\n",
      "|    3.0|I FINALLY got my ...| AQC61R4UST7UH|        DaMara Estep|01 23, 2014|\n",
      "|    5.0|It is a very cute...|A31OVFL91BCKXG|Ashley Nicole Miller|01 17, 2014|\n",
      "|    1.0|DO NOT BUY! this ...|A1K0VLK6O5Z22M|           BeeLove21|12 27, 2013|\n",
      "|    4.0|I really love thi...|A1K3BWU73YB44P|          Mrs. Ochoa|12 16, 2013|\n",
      "+-------+--------------------+--------------+--------------------+-----------+\n",
      "\n"
     ]
    }
   ],
   "source": [
    "Selecting=spark.sql(\"Select * from selective_aws_df LIMIT 10 \").show()"
   ]
  },
  {
   "cell_type": "markdown",
   "metadata": {},
   "source": [
    "# Task 3 :Group by and get max, min, count of a column in the dataset"
   ]
  },
  {
   "cell_type": "code",
   "execution_count": 98,
   "metadata": {},
   "outputs": [],
   "source": [
    "#Count and groupby"
   ]
  },
  {
   "cell_type": "code",
   "execution_count": 99,
   "metadata": {},
   "outputs": [
    {
     "name": "stdout",
     "output_type": "stream",
     "text": [
      "+-------+--------------+\n",
      "|overall|count(overall)|\n",
      "+-------+--------------+\n",
      "|    1.0|         81539|\n",
      "|    4.0|        184431|\n",
      "|    3.0|         98254|\n",
      "|    2.0|         57175|\n",
      "|    5.0|        707038|\n",
      "+-------+--------------+\n",
      "\n"
     ]
    }
   ],
   "source": [
    "review_sql_df = spark.sql(\"select overall , count(overall) from selective_aws_df group by overall\")\n",
    "review_sql_df.show()"
   ]
  },
  {
   "cell_type": "code",
   "execution_count": 100,
   "metadata": {},
   "outputs": [],
   "source": [
    "# Max function"
   ]
  },
  {
   "cell_type": "code",
   "execution_count": 101,
   "metadata": {},
   "outputs": [],
   "source": [
    "max = spark.sql(\"SELECT MAX(overall) as maxoverall from selective_aws_df\")"
   ]
  },
  {
   "cell_type": "code",
   "execution_count": 102,
   "metadata": {},
   "outputs": [
    {
     "name": "stdout",
     "output_type": "stream",
     "text": [
      "+----------+\n",
      "|maxoverall|\n",
      "+----------+\n",
      "|       5.0|\n",
      "+----------+\n",
      "\n"
     ]
    }
   ],
   "source": [
    "max.show()"
   ]
  },
  {
   "cell_type": "code",
   "execution_count": 103,
   "metadata": {},
   "outputs": [],
   "source": [
    "# Min function"
   ]
  },
  {
   "cell_type": "code",
   "execution_count": 104,
   "metadata": {},
   "outputs": [],
   "source": [
    "min=spark.sql(\"SELECT MIN(overall) as minoverall from selective_aws_df\")"
   ]
  },
  {
   "cell_type": "code",
   "execution_count": 105,
   "metadata": {},
   "outputs": [
    {
     "name": "stdout",
     "output_type": "stream",
     "text": [
      "+----------+\n",
      "|minoverall|\n",
      "+----------+\n",
      "|       1.0|\n",
      "+----------+\n",
      "\n"
     ]
    }
   ],
   "source": [
    "min.show()"
   ]
  },
  {
   "cell_type": "code",
   "execution_count": 106,
   "metadata": {},
   "outputs": [],
   "source": [
    "# Count of daatset attribute"
   ]
  },
  {
   "cell_type": "code",
   "execution_count": 107,
   "metadata": {},
   "outputs": [
    {
     "name": "stdout",
     "output_type": "stream",
     "text": [
      "+--------+\n",
      "|count(1)|\n",
      "+--------+\n",
      "|  707038|\n",
      "+--------+\n",
      "\n"
     ]
    }
   ],
   "source": [
    "rname=spark.sql(\"SELECT count(*) from selective_aws_df where overall= 5.0 \")\n",
    "rname.show()"
   ]
  },
  {
   "cell_type": "markdown",
   "metadata": {},
   "source": [
    "# Task:4 Filter your dataset by some conditions based on your column"
   ]
  },
  {
   "cell_type": "code",
   "execution_count": 108,
   "metadata": {},
   "outputs": [
    {
     "name": "stdout",
     "output_type": "stream",
     "text": [
      "+-------+--------------------+--------------+-------------------+-----------+\n",
      "|overall|          reviewText|    reviewerID|       reviewerName| reviewTime|\n",
      "+-------+--------------------+--------------+-------------------+-----------+\n",
      "|    5.0|Looks even better...|A24E3SXTC62LJI|   Claudia Valdivia| 08 4, 2014|\n",
      "|    5.0|Looks just like t...| ADP0AGC42GW3F|             Jimmie|09 17, 2013|\n",
      "|    5.0|          Looks good|A24X7XXLSY68DB|              Jason|04 11, 2015|\n",
      "|    5.0|Looks just like t...| AFGS7LT2TC573|            Brian J|12 28, 2014|\n",
      "|    5.0|Looks amazing on ...|A3AZLDHN6JF8YW|           Jason He|01 24, 2011|\n",
      "|    5.0|Looks well made &...|A1RBGNDI62AVP5|              hchou|03 23, 2015|\n",
      "|    5.0|Looks like origin...|A3SD8POS0G85C6|            jassper|03 16, 2013|\n",
      "|    5.0|Looks great, fits...|A2POXPD0VMLUNK|         Video Andy| 12 7, 2012|\n",
      "|    5.0|Looks like there ...|A2OV0EKZK35VC1|Jorge&#039;s Amazon|05 15, 2014|\n",
      "|    5.0|Looks bright, sof...|A26YO235AO6Q2Z|              Hutch|02 22, 2013|\n",
      "|    5.0|Looks great on a ...|A2UUC92SLDOZGO|           Ernest C|01 10, 2012|\n",
      "|    5.0|Looks and works l...| AN3R5C07N8IVQ|        Bill DeLand|07 21, 2016|\n",
      "|    5.0|Looks great, work...|A15VAVJN09JOPD|               Teri|01 12, 2016|\n",
      "|    5.0|         Looks great|A1QH53IU64CZWQ|              Jimmy|06 27, 2015|\n",
      "|    5.0|Looks & feels lik...|A1K4HXO5VATS7S|              RickH|02 12, 2014|\n",
      "|    5.0|Looks just like m...|A2NFIJDQL9M4ZA|               Jeff| 05 3, 2013|\n",
      "|    5.0|Looks cool on pho...|A3AXKFSSU68OUW|    Natacha Huskins|03 27, 2013|\n",
      "|    5.0|Looks cool on pho...|A3AXKFSSU68OUW|    Natacha Huskins|03 27, 2013|\n",
      "|    5.0|Looks great after...| AFYEAZEDF4UDP|              Randa|10 29, 2014|\n",
      "|    5.0|    Looks real cool.|A2PTAWFC2B0SEI|  Ricardo Rodriguez| 01 7, 2015|\n",
      "+-------+--------------------+--------------+-------------------+-----------+\n",
      "only showing top 20 rows\n",
      "\n"
     ]
    }
   ],
   "source": [
    "filetrquery =spark.sql(\"SELECT * from selective_aws_df where overall= 5.0 and reviewText RLIKE  '^Looks'\").show()"
   ]
  },
  {
   "cell_type": "markdown",
   "metadata": {},
   "source": [
    "# Task 5 : Apply group by with having clause."
   ]
  },
  {
   "cell_type": "code",
   "execution_count": 109,
   "metadata": {},
   "outputs": [
    {
     "name": "stdout",
     "output_type": "stream",
     "text": [
      "+-------+\n",
      "|overall|\n",
      "+-------+\n",
      "|    4.0|\n",
      "|    3.0|\n",
      "|    5.0|\n",
      "+-------+\n",
      "\n"
     ]
    }
   ],
   "source": [
    "Having = spark.sql(\"SELECT overall from selective_aws_df GROUP BY overall HAVING overall>2 \").show()"
   ]
  },
  {
   "cell_type": "markdown",
   "metadata": {},
   "source": [
    "# Task 6 : Apply order by"
   ]
  },
  {
   "cell_type": "code",
   "execution_count": 110,
   "metadata": {},
   "outputs": [
    {
     "name": "stdout",
     "output_type": "stream",
     "text": [
      "+--------------+\n",
      "|    reviewerID|\n",
      "+--------------+\n",
      "|A31ZZRB12R3PGY|\n",
      "|A1X6CQMDP6ZNVD|\n",
      "| AMB8C7C3HEEIY|\n",
      "|A1ROZSS0KIE0CC|\n",
      "| AV9OETMS2X9TT|\n",
      "|A3U2VAZBCBU7K6|\n",
      "|A2H566J34LUPE3|\n",
      "|A17E8FKH09XAY2|\n",
      "| ABGQ3LNDE1VM8|\n",
      "| ABVQ1EZPPHZ5F|\n",
      "|A1W7T37NSUFURN|\n",
      "| AZW6WE7UXAMU0|\n",
      "| A4J4N4WFC64I4|\n",
      "|A1LFNDW0RIPTDP|\n",
      "|A3ODQQDGMRX3UV|\n",
      "|A119QJ6TQ922RH|\n",
      "|A18ELSI3X0Y2B8|\n",
      "|A317T1S6EM6G23|\n",
      "|A1A2GP9SM4GCPD|\n",
      "|A3GGJ6C884GU4M|\n",
      "+--------------+\n",
      "only showing top 20 rows\n",
      "\n"
     ]
    }
   ],
   "source": [
    "order=spark.sql(\"SELECT reviewerID from selective_aws_df  ORDER BY overall ASC \").show()"
   ]
  },
  {
   "cell_type": "markdown",
   "metadata": {},
   "source": [
    "# Task 7 :Select distinct records by a column."
   ]
  },
  {
   "cell_type": "code",
   "execution_count": 111,
   "metadata": {},
   "outputs": [
    {
     "name": "stdout",
     "output_type": "stream",
     "text": [
      "+--------------------+\n",
      "|          reviewText|\n",
      "+--------------------+\n",
      "|Not really :).  I...|\n",
      "|This pad is a foa...|\n",
      "|Works well but ma...|\n",
      "|I have loved the ...|\n",
      "|The positive revi...|\n",
      "|Love the stand up...|\n",
      "|The case is easy ...|\n",
      "|I am very happy w...|\n",
      "|Or maybe not.  Th...|\n",
      "|This case is made...|\n",
      "|Traveling to Euro...|\n",
      "|Works as expected...|\n",
      "|The case it's a l...|\n",
      "|Worked as adverti...|\n",
      "|Bought this for s...|\n",
      "|  Didnt work at all,|\n",
      "|Heavy Duty Extra ...|\n",
      "|I bought this cas...|\n",
      "|Well, it works fi...|\n",
      "|This is good prod...|\n",
      "+--------------------+\n",
      "only showing top 20 rows\n",
      "\n"
     ]
    }
   ],
   "source": [
    "distinct=spark.sql(\"SELECT distinct reviewText from selective_aws_df\").show()"
   ]
  },
  {
   "cell_type": "markdown",
   "metadata": {},
   "source": [
    "# Task 8 : Transform a categorical column with OneHot Encoding"
   ]
  },
  {
   "cell_type": "code",
   "execution_count": 112,
   "metadata": {},
   "outputs": [],
   "source": [
    "from pyspark.ml.feature import StringIndexer, OneHotEncoder \n",
    "from pyspark.ml import Pipeline"
   ]
  },
  {
   "cell_type": "code",
   "execution_count": 113,
   "metadata": {},
   "outputs": [],
   "source": [
    "indexer = StringIndexer(inputCol='overall', outputCol='overallIndex')\n",
    "encoder = OneHotEncoder(inputCol='overallIndex', outputCol='overallVec')\n",
    "\n",
    "pipe = Pipeline(stages = [indexer, encoder])\n",
    "\n",
    "newDF = pipe.fit(selective_aws_df).transform(selective_aws_df)"
   ]
  },
  {
   "cell_type": "code",
   "execution_count": 114,
   "metadata": {},
   "outputs": [
    {
     "name": "stdout",
     "output_type": "stream",
     "text": [
      "+-------+--------------------+--------------+--------------------+-----------+------------+-------------+\n",
      "|overall|          reviewText|    reviewerID|        reviewerName| reviewTime|overallIndex|   overallVec|\n",
      "+-------+--------------------+--------------+--------------------+-----------+------------+-------------+\n",
      "|    5.0|Looks even better...|A24E3SXTC62LJI|    Claudia Valdivia| 08 4, 2014|         0.0|(4,[0],[1.0])|\n",
      "|    5.0|When you don't wa...|A269FLZCB4GIPV|         sarah ponce|02 12, 2014|         0.0|(4,[0],[1.0])|\n",
      "|    3.0|so the case came ...| AB6CHQWHZW4TV|                 Kai| 02 8, 2014|         2.0|(4,[2],[1.0])|\n",
      "|    2.0|DON'T CARE FOR IT...| A1M117A53LEI8|     Sharon Williams| 02 4, 2014|         4.0|    (4,[],[])|\n",
      "|    4.0|I liked it becaus...|A272DUT8M88ZS8|     Bella Rodriguez| 02 3, 2014|         1.0|(4,[1],[1.0])|\n",
      "|    2.0|The product looke...|A1DW2L6XCC5TJS|     Amazon Customer|01 27, 2014|         4.0|    (4,[],[])|\n",
      "|    3.0|I FINALLY got my ...| AQC61R4UST7UH|        DaMara Estep|01 23, 2014|         2.0|(4,[2],[1.0])|\n",
      "|    5.0|It is a very cute...|A31OVFL91BCKXG|Ashley Nicole Miller|01 17, 2014|         0.0|(4,[0],[1.0])|\n",
      "|    1.0|DO NOT BUY! this ...|A1K0VLK6O5Z22M|           BeeLove21|12 27, 2013|         3.0|(4,[3],[1.0])|\n",
      "|    4.0|I really love thi...|A1K3BWU73YB44P|          Mrs. Ochoa|12 16, 2013|         1.0|(4,[1],[1.0])|\n",
      "|    4.0|its super cute an...|A1LBVKZ3X50ES7|               Paige|10 27, 2013|         1.0|(4,[1],[1.0])|\n",
      "|    5.0|Another great pro...|A2ZB7KGUSBR9P3|            E. Bryce|10 23, 2013|         0.0|(4,[0],[1.0])|\n",
      "|    1.0|Very cheap broke ...|A1ROZSS0KIE0CC|                Tina| 10 8, 2013|         3.0|(4,[3],[1.0])|\n",
      "|    4.0|I purchased this ...|A1EHAOK0XD3P8E|                barb|09 19, 2013|         1.0|(4,[1],[1.0])|\n",
      "|    5.0|Beautiful quality...|A18U23JWTMQX5C|        KaitlynxO625|09 10, 2013|         0.0|(4,[0],[1.0])|\n",
      "|    5.0|It is such a good...|A1JQUCTFM4UKMQ|         M. Antillon|08 28, 2013|         0.0|(4,[0],[1.0])|\n",
      "|    3.0|Can not argue wit...|A3NS9QFI3TYGYP|             Anthony|07 14, 2013|         2.0|(4,[2],[1.0])|\n",
      "|    2.0|I used this case ...|A1BZ055LW3TDLP|            Chasitty|06 27, 2013|         4.0|    (4,[],[])|\n",
      "|    5.0|Super durable and...|A29KSIE8BKYVQN|          Janine  B.| 06 4, 2013|         0.0|(4,[0],[1.0])|\n",
      "|    5.0|I have used this ...|A2CQO0FORCTC2R|               Sulli| 06 3, 2013|         0.0|(4,[0],[1.0])|\n",
      "+-------+--------------------+--------------+--------------------+-----------+------------+-------------+\n",
      "only showing top 20 rows\n",
      "\n"
     ]
    }
   ],
   "source": [
    "newDF.show()"
   ]
  },
  {
   "cell_type": "code",
   "execution_count": null,
   "metadata": {},
   "outputs": [],
   "source": []
  }
 ],
 "metadata": {
  "kernelspec": {
   "display_name": "Python 3",
   "language": "python",
   "name": "python3"
  },
  "language_info": {
   "codemirror_mode": {
    "name": "ipython",
    "version": 3
   },
   "file_extension": ".py",
   "mimetype": "text/x-python",
   "name": "python",
   "nbconvert_exporter": "python",
   "pygments_lexer": "ipython3",
   "version": "3.7.4"
  }
 },
 "nbformat": 4,
 "nbformat_minor": 2
}
